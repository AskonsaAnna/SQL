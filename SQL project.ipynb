{
 "cells": [
  {
   "cell_type": "markdown",
   "id": "03561928",
   "metadata": {
    "toc": true
   },
   "source": [
    "<h1>Table of Contents<span class=\"tocSkip\"></span></h1>\n",
    "<div class=\"toc\"><ul class=\"toc-item\"><li><span><a href=\"#Проект-&quot;Приложение-для-тех,-кто-любит-читать&quot;-SQL\" data-toc-modified-id=\"Проект-&quot;Приложение-для-тех,-кто-любит-читать&quot;-SQL-1\">Проект \"Приложение для тех, кто любит читать\" SQL</a></span><ul class=\"toc-item\"><li><ul class=\"toc-item\"><li><span><a href=\"#Описание-проекта\" data-toc-modified-id=\"Описание-проекта-1.0.1\">Описание проекта</a></span></li><li><span><a href=\"#Описание-данных\" data-toc-modified-id=\"Описание-данных-1.0.2\">Описание данных</a></span></li></ul></li><li><span><a href=\"#Шаг-1.-Импорт-библиотек-и-настройка-коннектора\" data-toc-modified-id=\"Шаг-1.-Импорт-библиотек-и-настройка-коннектора-1.1\">Шаг 1. Импорт библиотек и настройка коннектора</a></span></li><li><span><a href=\"#Шаг-2.-Познакомимся-с-данными-таблиц\" data-toc-modified-id=\"Шаг-2.-Познакомимся-с-данными-таблиц-1.2\">Шаг 2. Познакомимся с данными таблиц</a></span><ul class=\"toc-item\"><li><span><a href=\"#2.1-Таблица-с-книгами\" data-toc-modified-id=\"2.1-Таблица-с-книгами-1.2.1\">2.1 Таблица с книгами</a></span></li><li><span><a href=\"#2.2.-Таблица-с-авторами\" data-toc-modified-id=\"2.2.-Таблица-с-авторами-1.2.2\">2.2. Таблица с авторами</a></span></li><li><span><a href=\"#2.3.-Таблица-publishers-с-издательствами\" data-toc-modified-id=\"2.3.-Таблица-publishers-с-издательствами-1.2.3\">2.3. Таблица publishers с издательствами</a></span></li><li><span><a href=\"#2.4.-Таблица-ratings-с-рейтингами-книг\" data-toc-modified-id=\"2.4.-Таблица-ratings-с-рейтингами-книг-1.2.4\">2.4. Таблица ratings с рейтингами книг</a></span></li><li><span><a href=\"#2.5.-Таблица-reviews-с-обзорами-книг\" data-toc-modified-id=\"2.5.-Таблица-reviews-с-обзорами-книг-1.2.5\">2.5. Таблица reviews с обзорами книг</a></span></li></ul></li><li><span><a href=\"#Шаг-3.-Исследование\" data-toc-modified-id=\"Шаг-3.-Исследование-1.3\">Шаг 3. Исследование</a></span><ul class=\"toc-item\"><li><span><a href=\"#3.1.-Посчитаем,-сколько-книг-вышло-после-1-января-2000-года.\" data-toc-modified-id=\"3.1.-Посчитаем,-сколько-книг-вышло-после-1-января-2000-года.-1.3.1\">3.1. Посчитаем, сколько книг вышло после 1 января 2000 года.</a></span></li><li><span><a href=\"#3.2.-Для-каждой-книги-посчитаем-количество-обзоров-и-среднюю-оценку.\" data-toc-modified-id=\"3.2.-Для-каждой-книги-посчитаем-количество-обзоров-и-среднюю-оценку.-1.3.2\">3.2. Для каждой книги посчитаем количество обзоров и среднюю оценку.</a></span></li><li><span><a href=\"#3.3.-Определим-издательство,-которое-выпустило-наибольшее-число-книг-толще-50-страниц-—-так-мы-исключим-из-анализа-брошюры;\" data-toc-modified-id=\"3.3.-Определим-издательство,-которое-выпустило-наибольшее-число-книг-толще-50-страниц-—-так-мы-исключим-из-анализа-брошюры;-1.3.3\">3.3. Определим издательство, которое выпустило наибольшее число книг толще 50 страниц — так мы исключим из анализа брошюры;</a></span></li><li><span><a href=\"#3.4.-Определим-автора-с-самой-высокой-средней-оценкой-книг-—-будем-учитывать-только-книги-с-50-и-более-оценками;\" data-toc-modified-id=\"3.4.-Определим-автора-с-самой-высокой-средней-оценкой-книг-—-будем-учитывать-только-книги-с-50-и-более-оценками;-1.3.4\">3.4. Определим автора с самой высокой средней оценкой книг — будем учитывать только книги с 50 и более оценками;</a></span></li><li><span><a href=\"#3.5.-Посчитаем-среднее-количество-обзоров-от-пользователей,-которые-поставили-больше-50-оценок.\" data-toc-modified-id=\"3.5.-Посчитаем-среднее-количество-обзоров-от-пользователей,-которые-поставили-больше-50-оценок.-1.3.5\">3.5. Посчитаем среднее количество обзоров от пользователей, которые поставили больше 50 оценок.</a></span></li></ul></li></ul></li></ul></div>"
   ]
  },
  {
   "cell_type": "markdown",
   "id": "867c762d",
   "metadata": {},
   "source": [
    "# Проект \"Приложение для тех, кто любит читать\" SQL"
   ]
  },
  {
   "cell_type": "markdown",
   "id": "c75ddea6",
   "metadata": {},
   "source": [
    "### Описание проекта"
   ]
  },
  {
   "cell_type": "markdown",
   "id": "293b9540",
   "metadata": {},
   "source": [
    "Наша компания решила быть на волне и купила крупный сервис для чтения книг по подписке. \n",
    "\n",
    "**Задача**\n",
    "Проанализировать базу данных.\n",
    "В ней — информация о книгах, издательствах, авторах, а также пользовательские обзоры книг. Эти данные помогут сформулировать ценностное предложение для нового продукта."
   ]
  },
  {
   "cell_type": "markdown",
   "id": "c110a64c",
   "metadata": {},
   "source": [
    "### Описание данных \n",
    "\n",
    "**Таблица `books`**\n",
    "\n",
    "Содержит данные о книгах:\n",
    "\n",
    "- `book_id` — идентификатор книги;\n",
    "- `author_id` — идентификатор автора;\n",
    "- `title` — название книги;\n",
    "- `num_pages` — количество страниц;\n",
    "- `publication_date` — дата публикации книги;\n",
    "- `publisher_id` — идентификатор издателя.\n",
    "\n",
    "**Таблица `authors`**\n",
    "\n",
    "Содержит данные об авторах:\n",
    "\n",
    "- `author_id` — идентификатор автора;\n",
    "- `author` — имя автора.\n",
    "\n",
    "**Таблица `publishers`**\n",
    "\n",
    "Содержит данные об издательствах:\n",
    "\n",
    "- `publisher_id` — идентификатор издательства;\n",
    "- `publisher` — название издательства;\n",
    "\n",
    "**Таблица `ratings`**\n",
    "\n",
    "Содержит данные о пользовательских оценках книг:\n",
    "\n",
    "- `rating_id` — идентификатор оценки;\n",
    "- `book_id` — идентификатор книги;\n",
    "- `username` — имя пользователя, оставившего оценку;\n",
    "- `rating` — оценка книги.\n",
    "\n",
    "**Таблица `reviews`**\n",
    "\n",
    "Содержит данные о пользовательских обзорах на книги:\n",
    "\n",
    "- `review_id` — идентификатор обзора;\n",
    "- `book_id` — идентификатор книги;\n",
    "- `username` — имя пользователя, написавшего обзор;\n",
    "- `text` — текст обзора."
   ]
  },
  {
   "cell_type": "markdown",
   "id": "1d7f2045",
   "metadata": {},
   "source": [
    "##  Шаг 1. Импорт библиотек и настройка коннектора "
   ]
  },
  {
   "cell_type": "code",
   "execution_count": 1,
   "id": "dbf646a3",
   "metadata": {},
   "outputs": [],
   "source": [
    "# импортируем библиотеки\n",
    "import pandas as pd\n",
    "\n",
    "from sqlalchemy import create_engine\n"
   ]
  },
  {
   "cell_type": "code",
   "execution_count": 2,
   "id": "0147fe6b",
   "metadata": {},
   "outputs": [],
   "source": [
    "# устанавливаем параметры\n",
    "db_config = {'user': 'praktikum_student', # имя пользователя\n",
    "'pwd': 'Sdf4$2;d-d30pp', # пароль\n",
    "'host': 'rc1b-wcoijxj3yxfsf3fs.mdb.yandexcloud.net',\n",
    "'port': 6432, # порт подключения\n",
    "'db': 'data-analyst-final-project-db'} # название базы данных\n",
    "connection_string = 'postgresql://{}:{}@{}:{}/{}'.format(db_config['user'], db_config['pwd'], db_config['host'], db_config['port'],\n",
    "db_config['db'])\n",
    "#сохраняем коннектор\n",
    "engine = create_engine(connection_string, connect_args={'sslmode':'require'})"
   ]
  },
  {
   "cell_type": "markdown",
   "id": "4ec32d4d",
   "metadata": {},
   "source": [
    "## Шаг 2. Познакомимся с данными таблиц"
   ]
  },
  {
   "cell_type": "markdown",
   "id": "53d40897",
   "metadata": {},
   "source": [
    "### 2.1 Таблица с книгами"
   ]
  },
  {
   "cell_type": "code",
   "execution_count": 3,
   "id": "fb467289",
   "metadata": {},
   "outputs": [
    {
     "data": {
      "text/html": [
       "<div>\n",
       "<style scoped>\n",
       "    .dataframe tbody tr th:only-of-type {\n",
       "        vertical-align: middle;\n",
       "    }\n",
       "\n",
       "    .dataframe tbody tr th {\n",
       "        vertical-align: top;\n",
       "    }\n",
       "\n",
       "    .dataframe thead th {\n",
       "        text-align: right;\n",
       "    }\n",
       "</style>\n",
       "<table border=\"1\" class=\"dataframe\">\n",
       "  <thead>\n",
       "    <tr style=\"text-align: right;\">\n",
       "      <th></th>\n",
       "      <th>book_id</th>\n",
       "      <th>author_id</th>\n",
       "      <th>title</th>\n",
       "      <th>num_pages</th>\n",
       "      <th>publication_date</th>\n",
       "      <th>publisher_id</th>\n",
       "    </tr>\n",
       "  </thead>\n",
       "  <tbody>\n",
       "    <tr>\n",
       "      <th>0</th>\n",
       "      <td>1</td>\n",
       "      <td>546</td>\n",
       "      <td>'Salem's Lot</td>\n",
       "      <td>594</td>\n",
       "      <td>2005-11-01</td>\n",
       "      <td>93</td>\n",
       "    </tr>\n",
       "  </tbody>\n",
       "</table>\n",
       "</div>"
      ],
      "text/plain": [
       "   book_id  author_id         title  num_pages publication_date  publisher_id\n",
       "0        1        546  'Salem's Lot        594       2005-11-01            93"
      ]
     },
     "execution_count": 3,
     "metadata": {},
     "output_type": "execute_result"
    }
   ],
   "source": [
    "query = '''\n",
    "        Select *\n",
    "        From books\n",
    "        Limit 1\n",
    "       '''\n",
    "pd.io.sql.read_sql(query, con = engine)"
   ]
  },
  {
   "cell_type": "markdown",
   "id": "80c38fa5",
   "metadata": {},
   "source": [
    "### 2.2. Таблица с авторами"
   ]
  },
  {
   "cell_type": "code",
   "execution_count": 4,
   "id": "0c48102f",
   "metadata": {},
   "outputs": [
    {
     "data": {
      "text/html": [
       "<div>\n",
       "<style scoped>\n",
       "    .dataframe tbody tr th:only-of-type {\n",
       "        vertical-align: middle;\n",
       "    }\n",
       "\n",
       "    .dataframe tbody tr th {\n",
       "        vertical-align: top;\n",
       "    }\n",
       "\n",
       "    .dataframe thead th {\n",
       "        text-align: right;\n",
       "    }\n",
       "</style>\n",
       "<table border=\"1\" class=\"dataframe\">\n",
       "  <thead>\n",
       "    <tr style=\"text-align: right;\">\n",
       "      <th></th>\n",
       "      <th>author_id</th>\n",
       "      <th>author</th>\n",
       "    </tr>\n",
       "  </thead>\n",
       "  <tbody>\n",
       "    <tr>\n",
       "      <th>0</th>\n",
       "      <td>1</td>\n",
       "      <td>A.S. Byatt</td>\n",
       "    </tr>\n",
       "  </tbody>\n",
       "</table>\n",
       "</div>"
      ],
      "text/plain": [
       "   author_id      author\n",
       "0          1  A.S. Byatt"
      ]
     },
     "execution_count": 4,
     "metadata": {},
     "output_type": "execute_result"
    }
   ],
   "source": [
    "query = '''\n",
    "        Select * \n",
    "        From authors\n",
    "        Limit 1\n",
    "       '''\n",
    "pd.io.sql.read_sql(query, con = engine)"
   ]
  },
  {
   "cell_type": "markdown",
   "id": "c94b4ea2",
   "metadata": {},
   "source": [
    "### 2.3. Таблица publishers с издательствами"
   ]
  },
  {
   "cell_type": "code",
   "execution_count": 5,
   "id": "7e157d78",
   "metadata": {},
   "outputs": [
    {
     "data": {
      "text/html": [
       "<div>\n",
       "<style scoped>\n",
       "    .dataframe tbody tr th:only-of-type {\n",
       "        vertical-align: middle;\n",
       "    }\n",
       "\n",
       "    .dataframe tbody tr th {\n",
       "        vertical-align: top;\n",
       "    }\n",
       "\n",
       "    .dataframe thead th {\n",
       "        text-align: right;\n",
       "    }\n",
       "</style>\n",
       "<table border=\"1\" class=\"dataframe\">\n",
       "  <thead>\n",
       "    <tr style=\"text-align: right;\">\n",
       "      <th></th>\n",
       "      <th>publisher_id</th>\n",
       "      <th>publisher</th>\n",
       "    </tr>\n",
       "  </thead>\n",
       "  <tbody>\n",
       "    <tr>\n",
       "      <th>0</th>\n",
       "      <td>1</td>\n",
       "      <td>Ace</td>\n",
       "    </tr>\n",
       "  </tbody>\n",
       "</table>\n",
       "</div>"
      ],
      "text/plain": [
       "   publisher_id publisher\n",
       "0             1       Ace"
      ]
     },
     "execution_count": 5,
     "metadata": {},
     "output_type": "execute_result"
    }
   ],
   "source": [
    "query = '''\n",
    "        Select * \n",
    "        From publishers\n",
    "        Limit 1\n",
    "       '''\n",
    "pd.io.sql.read_sql(query, con = engine)"
   ]
  },
  {
   "cell_type": "markdown",
   "id": "1dec9174",
   "metadata": {},
   "source": [
    "### 2.4. Таблица ratings с рейтингами книг"
   ]
  },
  {
   "cell_type": "code",
   "execution_count": 6,
   "id": "4d488d16",
   "metadata": {},
   "outputs": [
    {
     "data": {
      "text/html": [
       "<div>\n",
       "<style scoped>\n",
       "    .dataframe tbody tr th:only-of-type {\n",
       "        vertical-align: middle;\n",
       "    }\n",
       "\n",
       "    .dataframe tbody tr th {\n",
       "        vertical-align: top;\n",
       "    }\n",
       "\n",
       "    .dataframe thead th {\n",
       "        text-align: right;\n",
       "    }\n",
       "</style>\n",
       "<table border=\"1\" class=\"dataframe\">\n",
       "  <thead>\n",
       "    <tr style=\"text-align: right;\">\n",
       "      <th></th>\n",
       "      <th>rating_id</th>\n",
       "      <th>book_id</th>\n",
       "      <th>username</th>\n",
       "      <th>rating</th>\n",
       "    </tr>\n",
       "  </thead>\n",
       "  <tbody>\n",
       "    <tr>\n",
       "      <th>0</th>\n",
       "      <td>1</td>\n",
       "      <td>1</td>\n",
       "      <td>ryanfranco</td>\n",
       "      <td>4</td>\n",
       "    </tr>\n",
       "  </tbody>\n",
       "</table>\n",
       "</div>"
      ],
      "text/plain": [
       "   rating_id  book_id    username  rating\n",
       "0          1        1  ryanfranco       4"
      ]
     },
     "execution_count": 6,
     "metadata": {},
     "output_type": "execute_result"
    }
   ],
   "source": [
    "query = '''\n",
    "        Select * \n",
    "        From ratings\n",
    "        Limit 1\n",
    "       '''\n",
    "pd.io.sql.read_sql(query, con = engine)"
   ]
  },
  {
   "cell_type": "markdown",
   "id": "012c7752",
   "metadata": {},
   "source": [
    "### 2.5. Таблица reviews с обзорами книг"
   ]
  },
  {
   "cell_type": "code",
   "execution_count": 7,
   "id": "9458b1b1",
   "metadata": {},
   "outputs": [
    {
     "data": {
      "text/html": [
       "<div>\n",
       "<style scoped>\n",
       "    .dataframe tbody tr th:only-of-type {\n",
       "        vertical-align: middle;\n",
       "    }\n",
       "\n",
       "    .dataframe tbody tr th {\n",
       "        vertical-align: top;\n",
       "    }\n",
       "\n",
       "    .dataframe thead th {\n",
       "        text-align: right;\n",
       "    }\n",
       "</style>\n",
       "<table border=\"1\" class=\"dataframe\">\n",
       "  <thead>\n",
       "    <tr style=\"text-align: right;\">\n",
       "      <th></th>\n",
       "      <th>review_id</th>\n",
       "      <th>book_id</th>\n",
       "      <th>username</th>\n",
       "      <th>text</th>\n",
       "    </tr>\n",
       "  </thead>\n",
       "  <tbody>\n",
       "    <tr>\n",
       "      <th>0</th>\n",
       "      <td>1</td>\n",
       "      <td>1</td>\n",
       "      <td>brandtandrea</td>\n",
       "      <td>Mention society tell send professor analysis. ...</td>\n",
       "    </tr>\n",
       "  </tbody>\n",
       "</table>\n",
       "</div>"
      ],
      "text/plain": [
       "   review_id  book_id      username  \\\n",
       "0          1        1  brandtandrea   \n",
       "\n",
       "                                                text  \n",
       "0  Mention society tell send professor analysis. ...  "
      ]
     },
     "execution_count": 7,
     "metadata": {},
     "output_type": "execute_result"
    }
   ],
   "source": [
    "query = '''\n",
    "        Select * \n",
    "        From reviews\n",
    "        Limit 1\n",
    "       '''\n",
    "pd.io.sql.read_sql(query, con = engine)"
   ]
  },
  {
   "cell_type": "markdown",
   "id": "8f6074e9",
   "metadata": {},
   "source": [
    "## Шаг 3. Исследование"
   ]
  },
  {
   "cell_type": "markdown",
   "id": "3010ee64",
   "metadata": {},
   "source": [
    "### 3.1. Посчитаем, сколько книг вышло после 1 января 2000 года."
   ]
  },
  {
   "cell_type": "code",
   "execution_count": 9,
   "id": "a4b516f2",
   "metadata": {},
   "outputs": [
    {
     "data": {
      "text/html": [
       "<div>\n",
       "<style scoped>\n",
       "    .dataframe tbody tr th:only-of-type {\n",
       "        vertical-align: middle;\n",
       "    }\n",
       "\n",
       "    .dataframe tbody tr th {\n",
       "        vertical-align: top;\n",
       "    }\n",
       "\n",
       "    .dataframe thead th {\n",
       "        text-align: right;\n",
       "    }\n",
       "</style>\n",
       "<table border=\"1\" class=\"dataframe\">\n",
       "  <thead>\n",
       "    <tr style=\"text-align: right;\">\n",
       "      <th></th>\n",
       "      <th>count</th>\n",
       "    </tr>\n",
       "  </thead>\n",
       "  <tbody>\n",
       "    <tr>\n",
       "      <th>0</th>\n",
       "      <td>819</td>\n",
       "    </tr>\n",
       "  </tbody>\n",
       "</table>\n",
       "</div>"
      ],
      "text/plain": [
       "   count\n",
       "0    819"
      ]
     },
     "execution_count": 9,
     "metadata": {},
     "output_type": "execute_result"
    }
   ],
   "source": [
    "query = '''\n",
    "        Select COUNT(book_id)\n",
    "        From books\n",
    "        WHERE publication_date > '2000-01-01'\n",
    "       '''\n",
    "pd.io.sql.read_sql(query, con = engine)"
   ]
  },
  {
   "cell_type": "markdown",
   "id": "8a8e7967",
   "metadata": {},
   "source": [
    "**После 1 января 2000 года было выпущено 819 книг из 1000 представленных книг**"
   ]
  },
  {
   "cell_type": "markdown",
   "id": "7b71219e",
   "metadata": {},
   "source": [
    "### 3.2. Для каждой книги посчитаем количество обзоров и среднюю оценку.\n"
   ]
  },
  {
   "cell_type": "code",
   "execution_count": 10,
   "id": "5a12c84c",
   "metadata": {},
   "outputs": [
    {
     "data": {
      "text/html": [
       "<div>\n",
       "<style scoped>\n",
       "    .dataframe tbody tr th:only-of-type {\n",
       "        vertical-align: middle;\n",
       "    }\n",
       "\n",
       "    .dataframe tbody tr th {\n",
       "        vertical-align: top;\n",
       "    }\n",
       "\n",
       "    .dataframe thead th {\n",
       "        text-align: right;\n",
       "    }\n",
       "</style>\n",
       "<table border=\"1\" class=\"dataframe\">\n",
       "  <thead>\n",
       "    <tr style=\"text-align: right;\">\n",
       "      <th></th>\n",
       "      <th>book_id</th>\n",
       "      <th>Название_книги</th>\n",
       "      <th>Число_обзоров</th>\n",
       "      <th>_Средний_рейтинг</th>\n",
       "    </tr>\n",
       "  </thead>\n",
       "  <tbody>\n",
       "    <tr>\n",
       "      <th>0</th>\n",
       "      <td>1</td>\n",
       "      <td>'Salem's Lot</td>\n",
       "      <td>6</td>\n",
       "      <td>3.67</td>\n",
       "    </tr>\n",
       "    <tr>\n",
       "      <th>1</th>\n",
       "      <td>2</td>\n",
       "      <td>1 000 Places to See Before You Die</td>\n",
       "      <td>2</td>\n",
       "      <td>2.50</td>\n",
       "    </tr>\n",
       "    <tr>\n",
       "      <th>2</th>\n",
       "      <td>3</td>\n",
       "      <td>13 Little Blue Envelopes (Little Blue Envelope...</td>\n",
       "      <td>9</td>\n",
       "      <td>4.67</td>\n",
       "    </tr>\n",
       "    <tr>\n",
       "      <th>3</th>\n",
       "      <td>4</td>\n",
       "      <td>1491: New Revelations of the Americas Before C...</td>\n",
       "      <td>4</td>\n",
       "      <td>4.50</td>\n",
       "    </tr>\n",
       "    <tr>\n",
       "      <th>4</th>\n",
       "      <td>5</td>\n",
       "      <td>1776</td>\n",
       "      <td>24</td>\n",
       "      <td>4.00</td>\n",
       "    </tr>\n",
       "    <tr>\n",
       "      <th>...</th>\n",
       "      <td>...</td>\n",
       "      <td>...</td>\n",
       "      <td>...</td>\n",
       "      <td>...</td>\n",
       "    </tr>\n",
       "    <tr>\n",
       "      <th>995</th>\n",
       "      <td>996</td>\n",
       "      <td>Wyrd Sisters (Discworld  #6; Witches #2)</td>\n",
       "      <td>9</td>\n",
       "      <td>3.67</td>\n",
       "    </tr>\n",
       "    <tr>\n",
       "      <th>996</th>\n",
       "      <td>997</td>\n",
       "      <td>Xenocide (Ender's Saga  #3)</td>\n",
       "      <td>15</td>\n",
       "      <td>3.40</td>\n",
       "    </tr>\n",
       "    <tr>\n",
       "      <th>997</th>\n",
       "      <td>998</td>\n",
       "      <td>Year of Wonders</td>\n",
       "      <td>20</td>\n",
       "      <td>3.20</td>\n",
       "    </tr>\n",
       "    <tr>\n",
       "      <th>998</th>\n",
       "      <td>999</td>\n",
       "      <td>You Suck (A Love Story  #2)</td>\n",
       "      <td>4</td>\n",
       "      <td>4.50</td>\n",
       "    </tr>\n",
       "    <tr>\n",
       "      <th>999</th>\n",
       "      <td>1000</td>\n",
       "      <td>Zen and the Art of Motorcycle Maintenance: An ...</td>\n",
       "      <td>24</td>\n",
       "      <td>3.83</td>\n",
       "    </tr>\n",
       "  </tbody>\n",
       "</table>\n",
       "<p>1000 rows × 4 columns</p>\n",
       "</div>"
      ],
      "text/plain": [
       "     book_id                                     Название_книги  \\\n",
       "0          1                                       'Salem's Lot   \n",
       "1          2                 1 000 Places to See Before You Die   \n",
       "2          3  13 Little Blue Envelopes (Little Blue Envelope...   \n",
       "3          4  1491: New Revelations of the Americas Before C...   \n",
       "4          5                                               1776   \n",
       "..       ...                                                ...   \n",
       "995      996           Wyrd Sisters (Discworld  #6; Witches #2)   \n",
       "996      997                        Xenocide (Ender's Saga  #3)   \n",
       "997      998                                    Year of Wonders   \n",
       "998      999                        You Suck (A Love Story  #2)   \n",
       "999     1000  Zen and the Art of Motorcycle Maintenance: An ...   \n",
       "\n",
       "     Число_обзоров  _Средний_рейтинг  \n",
       "0                6              3.67  \n",
       "1                2              2.50  \n",
       "2                9              4.67  \n",
       "3                4              4.50  \n",
       "4               24              4.00  \n",
       "..             ...               ...  \n",
       "995              9              3.67  \n",
       "996             15              3.40  \n",
       "997             20              3.20  \n",
       "998              4              4.50  \n",
       "999             24              3.83  \n",
       "\n",
       "[1000 rows x 4 columns]"
      ]
     },
     "execution_count": 10,
     "metadata": {},
     "output_type": "execute_result"
    }
   ],
   "source": [
    "query = '''\n",
    "        SELECT\n",
    "        book_id, title Название_книги, COUNT(review_id) Число_обзоров, ROUND(AVG(rating),2)_Средний_рейтинг\n",
    "        FROM \n",
    "        books LEFT OUTER JOIN reviews using(book_id)\n",
    "        LEFT OUTER JOIN ratings using(book_id)\n",
    "        GROUP BY 1\n",
    "        ORDER BY 1\n",
    "       '''\n",
    "pd.io.sql.read_sql(query, con = engine)"
   ]
  },
  {
   "cell_type": "markdown",
   "id": "8cfcd1f7",
   "metadata": {},
   "source": [
    "### 3.3. Определим издательство, которое выпустило наибольшее число книг толще 50 страниц — так мы исключим из анализа брошюры;"
   ]
  },
  {
   "cell_type": "code",
   "execution_count": 11,
   "id": "1486c694",
   "metadata": {},
   "outputs": [
    {
     "data": {
      "text/html": [
       "<div>\n",
       "<style scoped>\n",
       "    .dataframe tbody tr th:only-of-type {\n",
       "        vertical-align: middle;\n",
       "    }\n",
       "\n",
       "    .dataframe tbody tr th {\n",
       "        vertical-align: top;\n",
       "    }\n",
       "\n",
       "    .dataframe thead th {\n",
       "        text-align: right;\n",
       "    }\n",
       "</style>\n",
       "<table border=\"1\" class=\"dataframe\">\n",
       "  <thead>\n",
       "    <tr style=\"text-align: right;\">\n",
       "      <th></th>\n",
       "      <th>Издательство</th>\n",
       "    </tr>\n",
       "  </thead>\n",
       "  <tbody>\n",
       "    <tr>\n",
       "      <th>0</th>\n",
       "      <td>Penguin Books</td>\n",
       "    </tr>\n",
       "  </tbody>\n",
       "</table>\n",
       "</div>"
      ],
      "text/plain": [
       "    Издательство\n",
       "0  Penguin Books"
      ]
     },
     "execution_count": 11,
     "metadata": {},
     "output_type": "execute_result"
    }
   ],
   "source": [
    "query = '''\n",
    "        SELECT publisher AS Издательство\n",
    "        FROM\n",
    "        (SELECT publisher,COUNT(book_id)\n",
    "        FROM publishers\n",
    "        INNER JOIN books using(publisher_id)\n",
    "        WHERE num_pages > 50\n",
    "        GROUP BY 1\n",
    "        ORDER BY 2 DESC\n",
    "        LIMIT 1) AS g\n",
    "       '''\n",
    "pd.io.sql.read_sql(query, con = engine)"
   ]
  },
  {
   "cell_type": "markdown",
   "id": "44b536cc",
   "metadata": {},
   "source": [
    "**Издательство `Penguin Books` выпустило наибольшее количество книг толше 50 страниц (42 книги)**"
   ]
  },
  {
   "cell_type": "markdown",
   "id": "e256b2d2",
   "metadata": {},
   "source": [
    "### 3.4. Определим автора с самой высокой средней оценкой книг — будем учитывать только книги с 50 и более оценками;"
   ]
  },
  {
   "cell_type": "code",
   "execution_count": 12,
   "id": "9e807301",
   "metadata": {},
   "outputs": [
    {
     "data": {
      "text/html": [
       "<div>\n",
       "<style scoped>\n",
       "    .dataframe tbody tr th:only-of-type {\n",
       "        vertical-align: middle;\n",
       "    }\n",
       "\n",
       "    .dataframe tbody tr th {\n",
       "        vertical-align: top;\n",
       "    }\n",
       "\n",
       "    .dataframe thead th {\n",
       "        text-align: right;\n",
       "    }\n",
       "</style>\n",
       "<table border=\"1\" class=\"dataframe\">\n",
       "  <thead>\n",
       "    <tr style=\"text-align: right;\">\n",
       "      <th></th>\n",
       "      <th>Автор</th>\n",
       "    </tr>\n",
       "  </thead>\n",
       "  <tbody>\n",
       "    <tr>\n",
       "      <th>0</th>\n",
       "      <td>J.K. Rowling/Mary GrandPré</td>\n",
       "    </tr>\n",
       "  </tbody>\n",
       "</table>\n",
       "</div>"
      ],
      "text/plain": [
       "                        Автор\n",
       "0  J.K. Rowling/Mary GrandPré"
      ]
     },
     "execution_count": 12,
     "metadata": {},
     "output_type": "execute_result"
    }
   ],
   "source": [
    "query = '''\n",
    "        \n",
    "        SELECT author Автор\n",
    "        FROM\n",
    "        (WITH t1 AS(SELECT book_id,ROUND(AVG(rating),2) AS avg\n",
    "        From ratings \n",
    "        GROUP BY 1\n",
    "        HAVING COUNT(rating) > 50),\n",
    "        t2 AS(SELECT book_id, author\n",
    "                    FROM books INNER JOIN authors using(author_id))\n",
    "        SELECT author, AVG(avg)\n",
    "        FROM t1 LEFT OUTER JOIN t2 using(book_id)\n",
    "        GROUP BY 1\n",
    "        ORDER BY 2 DESC\n",
    "        LIMIT 1) AS d\n",
    "        \n",
    "        '''\n",
    "pd.io.sql.read_sql(query, con = engine)"
   ]
  },
  {
   "cell_type": "markdown",
   "id": "4f3c0ab2",
   "metadata": {},
   "source": [
    "**`J.K. Rowling/Mary GrandPré`  - это автор с самой высокой средней оценкой книг. Скорее всего, именно произведения этого автора Вам могут понравиться**"
   ]
  },
  {
   "cell_type": "markdown",
   "id": "32fe3b4d",
   "metadata": {},
   "source": [
    "### 3.5. Посчитаем среднее количество обзоров от пользователей, которые поставили больше 50 оценок."
   ]
  },
  {
   "cell_type": "code",
   "execution_count": 13,
   "id": "03016886",
   "metadata": {},
   "outputs": [
    {
     "data": {
      "text/html": [
       "<div>\n",
       "<style scoped>\n",
       "    .dataframe tbody tr th:only-of-type {\n",
       "        vertical-align: middle;\n",
       "    }\n",
       "\n",
       "    .dataframe tbody tr th {\n",
       "        vertical-align: top;\n",
       "    }\n",
       "\n",
       "    .dataframe thead th {\n",
       "        text-align: right;\n",
       "    }\n",
       "</style>\n",
       "<table border=\"1\" class=\"dataframe\">\n",
       "  <thead>\n",
       "    <tr style=\"text-align: right;\">\n",
       "      <th></th>\n",
       "      <th>Среднее_количество_обзоров</th>\n",
       "    </tr>\n",
       "  </thead>\n",
       "  <tbody>\n",
       "    <tr>\n",
       "      <th>0</th>\n",
       "      <td>24.0</td>\n",
       "    </tr>\n",
       "  </tbody>\n",
       "</table>\n",
       "</div>"
      ],
      "text/plain": [
       "   Среднее_количество_обзоров\n",
       "0                        24.0"
      ]
     },
     "execution_count": 13,
     "metadata": {},
     "output_type": "execute_result"
    }
   ],
   "source": [
    "query = '''\n",
    "  WITH t1 AS(SELECT username, COUNT(review_id) AS Количество_обзоров\n",
    "            FROM reviews\n",
    "            WHERE username IN(SELECT username\n",
    "            FROM ratings\n",
    "            GROUP BY 1\n",
    "            HAVING COUNT(rating) > 50)\n",
    "            GROUP BY 1)\n",
    "  SELECT ROUND(AVG(Количество_обзоров),0) AS Среднее_количество_обзоров\n",
    "         FROM t1\n",
    "        '''\n",
    "pd.io.sql.read_sql(query, con = engine)"
   ]
  },
  {
   "cell_type": "markdown",
   "id": "ec784e22",
   "metadata": {},
   "source": [
    "**Итак, всего 6 пользователей поставили больше 50 оценок и мы видим их среднее количество обзоров, которое составило 24 обзора. Наиболее читающие люди? Или люди, любящие выссказать свое мнение? В любом случае, именно благодаря им, вы сможете составить предварительное мнение о книге и решить, стоит ее читать или нет.**"
   ]
  },
  {
   "cell_type": "markdown",
   "id": "e3dc4bda",
   "metadata": {},
   "source": [
    "**Итак, у нас было 5 таблиц с разной информацией.**\n",
    " Нам удалось объединить информацию воедино. Мы проделали большую работу, чтобы получить ответы на важные вопросы и облегчить читателям поиски лучшей книги для себя.\n",
    " Новые таблицы помогут нам понять:\n",
    " 1. Востребовано ли приложение? \n",
    " 2. Много ли читающих активных пользователей?\n",
    " 2. Какую книгу выбрать для чтения с помощью рейтинга и числа обзоров?\n",
    " 3. Посмотреть средний рейтинг книги, автора.\n",
    " 4. Прежде чем начать читать книгу, познакомиться со мнением других читателей, что поможет принять окончательное решение.\n"
   ]
  }
 ],
 "metadata": {
  "ExecuteTimeLog": [
   {
    "duration": 464,
    "start_time": "2023-02-07T08:48:13.976Z"
   },
   {
    "duration": 27,
    "start_time": "2023-02-07T08:48:14.441Z"
   },
   {
    "duration": 55,
    "start_time": "2023-02-07T08:48:14.470Z"
   },
   {
    "duration": 10,
    "start_time": "2023-02-07T08:48:14.527Z"
   },
   {
    "duration": 10,
    "start_time": "2023-02-07T08:48:14.539Z"
   },
   {
    "duration": 10,
    "start_time": "2023-02-07T08:48:14.551Z"
   },
   {
    "duration": 10,
    "start_time": "2023-02-07T08:48:14.562Z"
   },
   {
    "duration": 32,
    "start_time": "2023-02-07T08:48:14.574Z"
   },
   {
    "duration": 10,
    "start_time": "2023-02-07T08:48:14.608Z"
   },
   {
    "duration": 39,
    "start_time": "2023-02-07T08:48:14.621Z"
   },
   {
    "duration": 11,
    "start_time": "2023-02-07T08:48:14.662Z"
   },
   {
    "duration": 11,
    "start_time": "2023-02-07T08:48:14.675Z"
   },
   {
    "duration": 15,
    "start_time": "2023-02-07T08:48:15.335Z"
   },
   {
    "duration": 15,
    "start_time": "2023-02-07T08:48:46.914Z"
   },
   {
    "duration": 499,
    "start_time": "2023-02-07T08:51:25.711Z"
   },
   {
    "duration": 32,
    "start_time": "2023-02-07T08:51:26.212Z"
   },
   {
    "duration": 55,
    "start_time": "2023-02-07T08:51:26.246Z"
   },
   {
    "duration": 10,
    "start_time": "2023-02-07T08:51:26.303Z"
   },
   {
    "duration": 11,
    "start_time": "2023-02-07T08:51:26.314Z"
   },
   {
    "duration": 18,
    "start_time": "2023-02-07T08:51:26.327Z"
   },
   {
    "duration": 26,
    "start_time": "2023-02-07T08:51:26.347Z"
   },
   {
    "duration": 45,
    "start_time": "2023-02-07T08:51:26.375Z"
   },
   {
    "duration": 21,
    "start_time": "2023-02-07T08:51:26.422Z"
   },
   {
    "duration": 39,
    "start_time": "2023-02-07T08:51:26.445Z"
   },
   {
    "duration": 24,
    "start_time": "2023-02-07T08:51:26.486Z"
   },
   {
    "duration": 26,
    "start_time": "2023-02-07T08:51:26.512Z"
   },
   {
    "duration": 31,
    "start_time": "2023-02-07T08:51:26.540Z"
   }
  ],
  "kernelspec": {
   "display_name": "Python 3 (ipykernel)",
   "language": "python",
   "name": "python3"
  },
  "language_info": {
   "codemirror_mode": {
    "name": "ipython",
    "version": 3
   },
   "file_extension": ".py",
   "mimetype": "text/x-python",
   "name": "python",
   "nbconvert_exporter": "python",
   "pygments_lexer": "ipython3",
   "version": "3.9.12"
  },
  "toc": {
   "base_numbering": 1,
   "nav_menu": {},
   "number_sections": false,
   "sideBar": true,
   "skip_h1_title": false,
   "title_cell": "Table of Contents",
   "title_sidebar": "Contents",
   "toc_cell": true,
   "toc_position": {
    "height": "calc(100% - 180px)",
    "left": "10px",
    "top": "150px",
    "width": "165px"
   },
   "toc_section_display": true,
   "toc_window_display": true
  }
 },
 "nbformat": 4,
 "nbformat_minor": 5
}
